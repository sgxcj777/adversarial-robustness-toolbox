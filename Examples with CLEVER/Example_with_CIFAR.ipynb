{
 "cells": [
  {
   "cell_type": "markdown",
   "metadata": {},
   "source": [
    "## Computing CLEVER metric with CNN model from Keras trained with CIFAR10 dataset"
   ]
  },
  {
   "cell_type": "code",
   "execution_count": 100,
   "metadata": {},
   "outputs": [],
   "source": [
    "# import neccessary files\n",
    "from __future__ import absolute_import, division, print_function, unicode_literals\n",
    "\n",
    "from keras.models import Sequential\n",
    "from keras.layers import Dense, Flatten, Conv2D, MaxPooling2D, Activation, Dropout\n",
    "import numpy as np\n",
    "import tensorflow as tf\n",
    "\n",
    "# art library\n",
    "from art import metrics\n",
    "from art.attacks import DeepFool\n",
    "from art.classifiers import KerasClassifier\n",
    "from art.utils import load_dataset\n"
   ]
  },
  {
   "cell_type": "markdown",
   "metadata": {},
   "source": [
    "## Preparing dataset and environment\n",
    "In this file, we will use the CIFAR10 dataset.\n",
    "We will disable tensorflow 2.0's eager evaluation as ART has not been updated to support eager evaluation."
   ]
  },
  {
   "cell_type": "markdown",
   "metadata": {},
   "source": [
    "# disable tensorflow 2.0 eager evaluation as it is not yet supported\n",
    "tf.compat.v1.disable_eager_execution()\n",
    "# Read CIFAR10 dataset\n",
    "(x_train, y_train), (x_test, y_test), min_, max_ = load_dataset(str('cifar10'))\n",
    "x_train, y_train = x_train[:5000], y_train[:5000]\n",
    "x_test, y_test = x_test[:500], y_test[:500]\n",
    "im_shape = x_train[0].shape"
   ]
  },
  {
   "cell_type": "markdown",
   "metadata": {},
   "source": [
    "## Creating and preparing the model\n",
    "For this example, we will use Keras Convolutional Neural Network model (CNN) without any adversarial defense training."
   ]
  },
  {
   "cell_type": "code",
   "execution_count": 101,
   "metadata": {},
   "outputs": [],
   "source": [
    "# Create Keras convolutional neural network - basic architecture from Keras examples\n",
    "# Source here: https://github.com/keras-team/keras/blob/master/examples/cifar10_cnn.py\n",
    "model = Sequential()\n",
    "model.add(Conv2D(32, (3, 3), padding='same', input_shape=x_train.shape[1:]))\n",
    "model.add(Activation('relu'))\n",
    "model.add(Conv2D(32, (3, 3)))\n",
    "model.add(Activation('relu'))\n",
    "model.add(MaxPooling2D(pool_size=(2, 2)))\n",
    "model.add(Dropout(0.25))\n",
    "\n",
    "model.add(Conv2D(64, (3, 3), padding='same'))\n",
    "model.add(Activation('relu'))\n",
    "model.add(Conv2D(64, (3, 3)))\n",
    "model.add(Activation('relu'))\n",
    "model.add(MaxPooling2D(pool_size=(2, 2)))\n",
    "model.add(Dropout(0.25))\n",
    "\n",
    "model.add(Flatten())\n",
    "model.add(Dense(512))\n",
    "model.add(Activation('relu'))\n",
    "model.add(Dropout(0.5))\n",
    "model.add(Dense(10))\n",
    "model.add(Activation('softmax'))\n",
    "\n",
    "model.compile(loss='categorical_crossentropy', optimizer='adam', metrics=['accuracy'])"
   ]
  },
  {
   "cell_type": "markdown",
   "metadata": {},
   "source": [
    "## Wrapping a whitebox classifier\n",
    "This creates a classifier wrapper for training of model"
   ]
  },
  {
   "cell_type": "code",
   "execution_count": 30,
   "metadata": {},
   "outputs": [
    {
     "name": "stdout",
     "output_type": "stream",
     "text": [
      "Epoch 1/10\n",
      "40/39 [==============================] - 3s 75ms/step - loss: 2.1691 - accuracy: 0.1854\n",
      "Epoch 2/10\n",
      "40/39 [==============================] - 3s 72ms/step - loss: 1.8881 - accuracy: 0.3100\n",
      "Epoch 3/10\n",
      "40/39 [==============================] - 3s 72ms/step - loss: 1.7466 - accuracy: 0.3678\n",
      "Epoch 4/10\n",
      "40/39 [==============================] - 3s 72ms/step - loss: 1.6204 - accuracy: 0.4041\n",
      "Epoch 5/10\n",
      "40/39 [==============================] - 3s 71ms/step - loss: 1.5235 - accuracy: 0.4473\n",
      "Epoch 6/10\n",
      "40/39 [==============================] - 3s 71ms/step - loss: 1.4455 - accuracy: 0.4787\n",
      "Epoch 7/10\n",
      "40/39 [==============================] - 3s 71ms/step - loss: 1.3619 - accuracy: 0.5102\n",
      "Epoch 8/10\n",
      "40/39 [==============================] - 3s 72ms/step - loss: 1.2992 - accuracy: 0.5316\n",
      "Epoch 9/10\n",
      "40/39 [==============================] - 3s 72ms/step - loss: 1.2059 - accuracy: 0.5646\n",
      "Epoch 10/10\n",
      "40/39 [==============================] - 3s 71ms/step - loss: 1.1821 - accuracy: 0.5777\n"
     ]
    }
   ],
   "source": [
    "# Create classifier wrapper\n",
    "classifier = KerasClassifier(model=model, clip_values=(min_, max_))\n",
    "classifier.fit(x_train, y_train, nb_epochs=10, batch_size=128)"
   ]
  },
  {
   "cell_type": "markdown",
   "metadata": {},
   "source": [
    "## Computing of CLEVER score\n",
    "```metrics.clever_u``` is used to evaluate CLEVER score for untargetted attacks.\n",
    "```metrics.clever_t``` is used to evaluate CLEVER score for targetted attacks.\n",
    "#### Usage\n",
    "##### official documentation: <a href=\"https://adversarial-robustness-toolbox.readthedocs.io/en/latest/modules/metrics.html\">click here</a> or <a href=\"https://arxiv.org/pdf/1807.01069.pdf\"> click here</a>\n",
    "\n",
    "```metrics.clever_u(classifier, x, nb_batches, batch_size, radius, norm, c_init=1, pool_factor=10)```\n",
    "\n",
    "<ul>\n",
    "    <li><b>classifier</b> (classifier) - classifier object we wrapped above</li>\n",
    "    <li><b>x</b> (np.ndarray) - input sample (typically use x_test)</li>\n",
    "    <li><b>nb_batches</b> (int) - Number of repetitions to estimate CLEVER</li>\n",
    "    <li><b>batch_size</b> (int) - Number of random examples to sample per batch</li>\n",
    "    <li><b>radius</b> (float) - ball of radius of the maximum perturbation</li>\n",
    "    <li><b>norm</b> (int) - norm of gradient x (current support by ART: 1,2,np.inf</li>\n",
    "    <li><b>c_init</b> (float) – initialization of Weibull distribution (default=1)</li>\n",
    "    <li><b>pool_factor</b> (int) – The factor to create a pool of random samples with size pool_factor x n_s (default=10)</li>\n",
    "</ul>\n"
   ]
  },
  {
   "cell_type": "code",
   "execution_count": 31,
   "metadata": {},
   "outputs": [
    {
     "name": "stdout",
     "output_type": "stream",
     "text": [
      "2.3125193516440703\n"
     ]
    }
   ],
   "source": [
    "#using CLEVER score with first 9 test samples\n",
    "scores = []\n",
    "for i in range(9):\n",
    "    scores.append(metrics.clever_u(classifier,x_test[i],10,10,50,1))\n",
    "\n",
    "avg_score = sum(scores)/len(scores)\n",
    "print(avg_score)"
   ]
  },
  {
   "cell_type": "markdown",
   "metadata": {},
   "source": [
    "## BlackBox testing\n",
    "We can only access 2 functions in the blackbox model:\n",
    " - `classifierBlack.predict(x_test)` returns predicted output from x_test\n",
    " - `classifierBlack.nb_classes()` returns number of target classes \n"
   ]
  },
  {
   "cell_type": "markdown",
   "metadata": {},
   "source": [
    "### Training the created CNN model above and preparing classifier"
   ]
  },
  {
   "cell_type": "code",
   "execution_count": 171,
   "metadata": {},
   "outputs": [
    {
     "name": "stdout",
     "output_type": "stream",
     "text": [
      "Epoch 1/10\n",
      "5000/5000 [==============================] - 5s 904us/step - loss: 0.4450 - accuracy: 0.8488\n",
      "Epoch 2/10\n",
      "5000/5000 [==============================] - 5s 927us/step - loss: 0.3509 - accuracy: 0.8776\n",
      "Epoch 3/10\n",
      "5000/5000 [==============================] - 4s 880us/step - loss: 0.3009 - accuracy: 0.8974\n",
      "Epoch 4/10\n",
      "5000/5000 [==============================] - 4s 878us/step - loss: 0.3115 - accuracy: 0.8894\n",
      "Epoch 5/10\n",
      "5000/5000 [==============================] - 4s 881us/step - loss: 0.2716 - accuracy: 0.9048\n",
      "Epoch 6/10\n",
      "5000/5000 [==============================] - 4s 887us/step - loss: 0.2492 - accuracy: 0.9116\n",
      "Epoch 7/10\n",
      "5000/5000 [==============================] - 4s 888us/step - loss: 0.2545 - accuracy: 0.9144\n",
      "Epoch 8/10\n",
      "5000/5000 [==============================] - 4s 894us/step - loss: 0.3034 - accuracy: 0.8956\n",
      "Epoch 9/10\n",
      "5000/5000 [==============================] - 4s 880us/step - loss: 0.2746 - accuracy: 0.9006\n",
      "Epoch 10/10\n",
      "5000/5000 [==============================] - 5s 901us/step - loss: 0.3862 - accuracy: 0.8626\n"
     ]
    }
   ],
   "source": [
    "#training the CNN model created above and defining the predict function\n",
    "from numpy import array\n",
    "from numpy import argmax\n",
    "from keras.utils import to_categorical\n",
    "\n",
    "#train the model above\n",
    "model.fit(x_train, y_train, batch_size = 128, epochs = 10)\n",
    "\n",
    "#create a function to predict one hot encoded inputs using trained model\n",
    "def classify_one_hot(input):\n",
    "    data = model.predict_classes(input)\n",
    "    data = array(data)\n",
    "    # one hot encode\n",
    "    encoded = to_categorical(data, num_classes=10)\n",
    "    return encoded"
   ]
  },
  {
   "cell_type": "markdown",
   "metadata": {},
   "source": [
    "### Wrapping a Blackbox classifier"
   ]
  },
  {
   "cell_type": "code",
   "execution_count": 172,
   "metadata": {},
   "outputs": [],
   "source": [
    "#create a blackbox wrapper\n",
    "from art.classifiers import BlackBoxClassifier\n",
    "classifierBlack = BlackBoxClassifier(classify_one_hot,x_train.shape[1:],10)"
   ]
  },
  {
   "cell_type": "code",
   "execution_count": 173,
   "metadata": {},
   "outputs": [
    {
     "data": {
      "text/plain": [
       "array([[0., 0., 0., 0., 0., 0., 1., 0., 0., 0.],\n",
       "       [0., 0., 0., 0., 0., 0., 0., 0., 1., 0.],\n",
       "       [0., 0., 0., 0., 0., 0., 0., 0., 1., 0.]], dtype=float32)"
      ]
     },
     "execution_count": 173,
     "metadata": {},
     "output_type": "execute_result"
    }
   ],
   "source": [
    "classifierBlack.predict(x_test[:3])"
   ]
  },
  {
   "cell_type": "code",
   "execution_count": 176,
   "metadata": {},
   "outputs": [
    {
     "ename": "TypeError",
     "evalue": "For `FastGradientMethod` classifier must be an instance of `art.classifiers.classifier.ClassifierGradients`, the provided classifier is instance of (<class 'art.classifiers.classifier.Classifier'>,).  The classifier needs to provide gradients.",
     "output_type": "error",
     "traceback": [
      "\u001b[0;31m---------------------------------------------------------------------------\u001b[0m",
      "\u001b[0;31mTypeError\u001b[0m                                 Traceback (most recent call last)",
      "\u001b[0;32m<ipython-input-176-5411bd5243e8>\u001b[0m in \u001b[0;36m<module>\u001b[0;34m\u001b[0m\n\u001b[1;32m      1\u001b[0m \u001b[0;32mfrom\u001b[0m \u001b[0mart\u001b[0m\u001b[0;34m.\u001b[0m\u001b[0mattacks\u001b[0m \u001b[0;32mimport\u001b[0m \u001b[0mFastGradientMethod\u001b[0m\u001b[0;34m\u001b[0m\u001b[0;34m\u001b[0m\u001b[0m\n\u001b[0;32m----> 2\u001b[0;31m \u001b[0mFGMAttack\u001b[0m \u001b[0;34m=\u001b[0m \u001b[0mFastGradientMethod\u001b[0m\u001b[0;34m(\u001b[0m\u001b[0mclassifierBlack\u001b[0m\u001b[0;34m,\u001b[0m\u001b[0;36m1\u001b[0m\u001b[0;34m)\u001b[0m\u001b[0;34m\u001b[0m\u001b[0;34m\u001b[0m\u001b[0m\n\u001b[0m",
      "\u001b[0;32m~/.local/lib/python3.7/site-packages/art/attacks/fast_gradient.py\u001b[0m in \u001b[0;36m__init__\u001b[0;34m(self, classifier, norm, eps, eps_step, targeted, num_random_init, batch_size, minimal)\u001b[0m\n\u001b[1;32m     75\u001b[0m             raise (TypeError('For `' + self.__class__.__name__ + '` classifier must be an instance of '\n\u001b[1;32m     76\u001b[0m                              \u001b[0;34m'`art.classifiers.classifier.ClassifierGradients`, the provided classifier is instance of '\u001b[0m\u001b[0;34m\u001b[0m\u001b[0;34m\u001b[0m\u001b[0m\n\u001b[0;32m---> 77\u001b[0;31m                              \u001b[0;34m+\u001b[0m \u001b[0mstr\u001b[0m\u001b[0;34m(\u001b[0m\u001b[0mclassifier\u001b[0m\u001b[0;34m.\u001b[0m\u001b[0m__class__\u001b[0m\u001b[0;34m.\u001b[0m\u001b[0m__bases__\u001b[0m\u001b[0;34m)\u001b[0m \u001b[0;34m+\u001b[0m \u001b[0;34m'. '\u001b[0m\u001b[0;34m\u001b[0m\u001b[0;34m\u001b[0m\u001b[0m\n\u001b[0m\u001b[1;32m     78\u001b[0m                              ' The classifier needs to provide gradients.'))\n\u001b[1;32m     79\u001b[0m \u001b[0;34m\u001b[0m\u001b[0m\n",
      "\u001b[0;31mTypeError\u001b[0m: For `FastGradientMethod` classifier must be an instance of `art.classifiers.classifier.ClassifierGradients`, the provided classifier is instance of (<class 'art.classifiers.classifier.Classifier'>,).  The classifier needs to provide gradients."
     ]
    }
   ],
   "source": [
    "from art.attacks import FastGradientMethod\n",
    "FGMAttack = FastGradientMethod(classifierBlack,1)"
   ]
  },
  {
   "cell_type": "code",
   "execution_count": null,
   "metadata": {},
   "outputs": [],
   "source": []
  }
 ],
 "metadata": {
  "kernelspec": {
   "display_name": "Python 3",
   "language": "python",
   "name": "python3"
  },
  "language_info": {
   "codemirror_mode": {
    "name": "ipython",
    "version": 3
   },
   "file_extension": ".py",
   "mimetype": "text/x-python",
   "name": "python",
   "nbconvert_exporter": "python",
   "pygments_lexer": "ipython3",
   "version": "3.7.4"
  }
 },
 "nbformat": 4,
 "nbformat_minor": 4
}
